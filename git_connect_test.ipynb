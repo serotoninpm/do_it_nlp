{
  "nbformat": 4,
  "nbformat_minor": 0,
  "metadata": {
    "colab": {
      "name": "git_connect_test.ipynb",
      "provenance": [],
      "authorship_tag": "ABX9TyMD2UamTxUao9AgVn+fYU/m",
      "include_colab_link": true
    },
    "kernelspec": {
      "name": "python3",
      "display_name": "Python 3"
    },
    "language_info": {
      "name": "python"
    }
  },
  "cells": [
    {
      "cell_type": "markdown",
      "metadata": {
        "id": "view-in-github",
        "colab_type": "text"
      },
      "source": [
        "<a href=\"https://colab.research.google.com/github/serotoninpm/do_it_nlp/blob/main/git_connect_test.ipynb\" target=\"_parent\"><img src=\"https://colab.research.google.com/assets/colab-badge.svg\" alt=\"Open In Colab\"/></a>"
      ]
    },
    {
      "cell_type": "code",
      "execution_count": 3,
      "metadata": {
        "id": "hYvRA5MV6jra"
      },
      "outputs": [],
      "source": [
        "class HELLO:\n",
        "  def __init__(self):\n",
        "    print(\"hello world\")"
      ]
    },
    {
      "cell_type": "code",
      "source": [
        "hello = HELLO()"
      ],
      "metadata": {
        "colab": {
          "base_uri": "https://localhost:8080/"
        },
        "id": "QmmOhjWE69Bk",
        "outputId": "034c6432-1801-462b-8360-822d40fcb42f"
      },
      "execution_count": 4,
      "outputs": [
        {
          "output_type": "stream",
          "name": "stdout",
          "text": [
            "hello world\n"
          ]
        }
      ]
    },
    {
      "cell_type": "code",
      "source": [
        ""
      ],
      "metadata": {
        "id": "2IPVs0du7AJo"
      },
      "execution_count": 4,
      "outputs": []
    }
  ]
}